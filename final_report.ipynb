{
 "cells": [
  {
   "cell_type": "code",
   "execution_count": null,
   "id": "fcf2659c-c5ce-41ef-8d72-709bc99d9f42",
   "metadata": {},
   "outputs": [],
   "source": [
    "library(tidyverse)\n",
    "library(repr)\n",
    "library(tidymodels)\n",
    "library(RColorBrewer)\n",
    "options(repr.matrix.max.rows = 5)\n",
    "set.seed(69)"
   ]
  },
  {
   "cell_type": "code",
   "execution_count": null,
   "id": "6d2dc015-2ed2-48d8-b991-258552e964be",
   "metadata": {},
   "outputs": [],
   "source": [
    "url <- \"https://raw.githubusercontent.com/2shar86/DSCI-100/main/nba_2022-23_all_stats_with_salary.csv\"\n",
    "nba_salaries <- read_csv(url)\n",
    "\n",
    "nba_salaries\n",
    "\n",
    "colnames(nba_salaries)"
   ]
  },
  {
   "cell_type": "code",
   "execution_count": null,
   "id": "d3c7f8a7-4ecd-4575-a7dd-2130c0952dff",
   "metadata": {},
   "outputs": [],
   "source": [
    "clean_nba_salaries <- nba_salaries |>\n",
    "    select(-Position, -Age, -Team, -'Player Name', -'...1', -'USG%', -OWS, -DWS, -WS, -\"WS/48\", -OBPM, -DBPM, -BPM, -VORP) |>\n",
    "    na.omit()\n",
    "clean_nba_salaries\n",
    "sum(map_df(clean_nba_salaries, is.na))\n",
    "str(clean_nba_salaries)"
   ]
  },
  {
   "cell_type": "code",
   "execution_count": null,
   "id": "423a24a0-18b1-4aab-9b28-8c31e5d983c4",
   "metadata": {},
   "outputs": [],
   "source": [
    "salaries_split <- initial_split(clean_nba_salaries, prop = 0.75, strata = Salary)\n",
    "\n",
    "salaries_training <- training(salaries_split)\n",
    "salaries_testing <- testing(salaries_split)\n",
    "\n",
    "head(salaries_training)\n",
    "\n",
    "nrow(salaries_training)\n",
    "nrow(salaries_testing)"
   ]
  },
  {
   "cell_type": "code",
   "execution_count": 36,
   "id": "85fcf8b8-2d72-45e2-9c61-071f1e09d41e",
   "metadata": {},
   "outputs": [
    {
     "ename": "ERROR",
     "evalue": "Error in names[[j]]: object of type 'builtin' is not subsettable\n",
     "output_type": "error",
     "traceback": [
      "Error in names[[j]]: object of type 'builtin' is not subsettable\nTraceback:\n"
     ]
    }
   ],
   "source": [
    "# create an empty tibble to store the results\n",
    "accuracies <- tibble(size = integer(),\n",
    "                     model_string = character(),\n",
    "                     accuracy = numeric())\n",
    "\n",
    "# create a model specification\n",
    "knn_spec <- nearest_neighbor(weight_func = \"rectangular\",\n",
    "                             neighbors = tune()) |>\n",
    "     set_engine(\"kknn\") |>\n",
    "     set_mode(\"regression\")\n",
    "\n",
    "# create a 5-fold cross-validation object\n",
    "salary_vfold <- vfold_cv(salaries_training, v = 5, strata = Salary)\n",
    "\n",
    "# store the total number of predictors\n",
    "n_total <- length(names)\n",
    "\n",
    "# stores selected predictors\n",
    "selected <- c()\n",
    "\n",
    "# for every size from 1 to the total number of predictors\n",
    "for (i in 1:n_total) {\n",
    "    # for every predictor still not added yet\n",
    "    accs <- list()\n",
    "    models <- list()\n",
    "    for (j in 1:length(names)) {\n",
    "        # create a model string for this combination of predictors\n",
    "        preds_new <- c(selected, names[[j]])\n",
    "        model_string <- paste(\"Class\", \"~\", paste(preds_new, collapse=\"+\"))\n",
    "\n",
    "        # create a recipe from the model string\n",
    "        salary_recipe <- recipe(as.formula(model_string),\n",
    "                                data = salaries_training) |>\n",
    "                          step_scale(all_predictors()) |>\n",
    "                          step_center(all_predictors())\n",
    "\n",
    "        # tune the K-NN classifier with these predictors,\n",
    "        # and collect the accuracy for the best K\n",
    "        acc <- workflow() |>\n",
    "          add_recipe(salary_recipe) |>\n",
    "          add_model(knn_spec) |>\n",
    "          tune_grid(resamples = salary_vfold, grid = 10) |>\n",
    "          collect_metrics() |>\n",
    "          filter(.metric == \"accuracy\") |>\n",
    "          summarize(mx = max(mean))\n",
    "        acc <- acc$mx |> unlist()\n",
    "\n",
    "        # add this result to the dataframe\n",
    "        accs[[j]] <- acc\n",
    "        models[[j]] <- model_string\n",
    "    }\n",
    "    jstar <- which.max(unlist(accs))\n",
    "    accuracies <- accuracies |>\n",
    "      add_row(size = i,\n",
    "              model_string = models[[jstar]],\n",
    "              accuracy = accs[[jstar]])\n",
    "    selected <- c(selected, names[[jstar]])\n",
    "    names <- names[-jstar]\n",
    "}\n",
    "accuracies"
   ]
  },
  {
   "cell_type": "code",
   "execution_count": null,
   "id": "6a50dad5-1016-4130-8f03-ff7046913ba1",
   "metadata": {},
   "outputs": [],
   "source": []
  }
 ],
 "metadata": {
  "kernelspec": {
   "display_name": "R",
   "language": "R",
   "name": "ir"
  },
  "language_info": {
   "codemirror_mode": "r",
   "file_extension": ".r",
   "mimetype": "text/x-r-source",
   "name": "R",
   "pygments_lexer": "r",
   "version": "4.3.1"
  }
 },
 "nbformat": 4,
 "nbformat_minor": 5
}
